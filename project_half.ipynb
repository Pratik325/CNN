{
  "nbformat": 4,
  "nbformat_minor": 0,
  "metadata": {
    "colab": {
      "name": "project half",
      "provenance": [],
      "collapsed_sections": [],
      "mount_file_id": "1HrixJTE9HzKur4I78ZLy2n8nDg92odWe",
      "authorship_tag": "ABX9TyNaWPAc4EQCvtmEjxjFdU55",
      "include_colab_link": true
    },
    "kernelspec": {
      "name": "python3",
      "display_name": "Python 3"
    },
    "accelerator": "GPU"
  },
  "cells": [
    {
      "cell_type": "markdown",
      "metadata": {
        "id": "view-in-github",
        "colab_type": "text"
      },
      "source": [
        "<a href=\"https://colab.research.google.com/github/Pratik325/CNN/blob/master/project_half.ipynb\" target=\"_parent\"><img src=\"https://colab.research.google.com/assets/colab-badge.svg\" alt=\"Open In Colab\"/></a>"
      ]
    },
    {
      "cell_type": "markdown",
      "metadata": {
        "id": "lnhpGZ3_yH-N",
        "colab_type": "text"
      },
      "source": [
        "**IMPORTING STATEMENTS**"
      ]
    },
    {
      "cell_type": "code",
      "metadata": {
        "id": "TYt13rlUzzIs",
        "colab_type": "code",
        "colab": {}
      },
      "source": [
        "import pandas as pd\n",
        "import numpy as np\n",
        "import matplotlib.pyplot as plt\n"
      ],
      "execution_count": 0,
      "outputs": []
    },
    {
      "cell_type": "markdown",
      "metadata": {
        "id": "QY39YlhyyQCQ",
        "colab_type": "text"
      },
      "source": [
        "**DATAFRAME**"
      ]
    },
    {
      "cell_type": "code",
      "metadata": {
        "id": "RTjMNqXwqo4r",
        "colab_type": "code",
        "colab": {}
      },
      "source": [
        "df_global = pd.read_csv('/content/drive/My Drive/project.csv')"
      ],
      "execution_count": 0,
      "outputs": []
    },
    {
      "cell_type": "markdown",
      "metadata": {
        "id": "QNXkq2tIyqoa",
        "colab_type": "text"
      },
      "source": [
        "**PRINITNG THE SHAPE**"
      ]
    },
    {
      "cell_type": "code",
      "metadata": {
        "id": "KTKDbXX6tdg8",
        "colab_type": "code",
        "colab": {
          "base_uri": "https://localhost:8080/",
          "height": 34
        },
        "outputId": "57eb9d27-01fb-4ac6-bf6e-38c4c37895b7"
      },
      "source": [
        "df_global.shape"
      ],
      "execution_count": 3,
      "outputs": [
        {
          "output_type": "execute_result",
          "data": {
            "text/plain": [
              "(18222, 4097)"
            ]
          },
          "metadata": {
            "tags": []
          },
          "execution_count": 3
        }
      ]
    },
    {
      "cell_type": "markdown",
      "metadata": {
        "id": "zmmrRx32ywjt",
        "colab_type": "text"
      },
      "source": [
        "**SPLITTING THE DATA**"
      ]
    },
    {
      "cell_type": "code",
      "metadata": {
        "id": "uo9gOiGCrZby",
        "colab_type": "code",
        "colab": {
          "base_uri": "https://localhost:8080/",
          "height": 50
        },
        "outputId": "70594a7d-e621-4d2e-8d9d-3649f1973ace"
      },
      "source": [
        "X = df_global.drop('labels', axis = 1)\n",
        "y = df_global['labels']\n",
        "print(X.shape)\n",
        "print(y.shape)"
      ],
      "execution_count": 4,
      "outputs": [
        {
          "output_type": "stream",
          "text": [
            "(18222, 4096)\n",
            "(18222,)\n"
          ],
          "name": "stdout"
        }
      ]
    },
    {
      "cell_type": "markdown",
      "metadata": {
        "id": "agEAc2PPy05Z",
        "colab_type": "text"
      },
      "source": [
        "**IMPORTING AND NORMALIZATIONS**"
      ]
    },
    {
      "cell_type": "code",
      "metadata": {
        "id": "X2VT5JMDrbBv",
        "colab_type": "code",
        "colab": {}
      },
      "source": [
        "from sklearn.model_selection import train_test_split\n",
        "x_train, x_test, y_train, y_test = train_test_split(X,y ,test_size = 0.4)\n",
        "\n",
        "# Normalizing the RGB codes by dividing it to the max RGB value.\n",
        "x_train = x_train/255.\n",
        "x_test = x_test/255.\n"
      ],
      "execution_count": 0,
      "outputs": []
    },
    {
      "cell_type": "code",
      "metadata": {
        "id": "6p77QqW9qNyD",
        "colab_type": "code",
        "colab": {
          "base_uri": "https://localhost:8080/",
          "height": 34
        },
        "outputId": "7adde6bd-18a0-4fbc-b919-21c7b2874d70"
      },
      "source": [
        "print(x_train.shape)"
      ],
      "execution_count": 6,
      "outputs": [
        {
          "output_type": "stream",
          "text": [
            "(10933, 4096)\n"
          ],
          "name": "stdout"
        }
      ]
    },
    {
      "cell_type": "code",
      "metadata": {
        "id": "tuIjAacjqSBN",
        "colab_type": "code",
        "colab": {
          "base_uri": "https://localhost:8080/",
          "height": 34
        },
        "outputId": "21e4503c-669e-414a-87b6-b78810cac60b"
      },
      "source": [
        "print(x_test.shape)"
      ],
      "execution_count": 7,
      "outputs": [
        {
          "output_type": "stream",
          "text": [
            "(7289, 4096)\n"
          ],
          "name": "stdout"
        }
      ]
    },
    {
      "cell_type": "markdown",
      "metadata": {
        "id": "Z3LL6TOuy62s",
        "colab_type": "text"
      },
      "source": [
        "**CONVERTING TO DESIRED SHAPE REQUIRED BY THE KERAS API**"
      ]
    },
    {
      "cell_type": "code",
      "metadata": {
        "id": "4p12s3fWrm5-",
        "colab_type": "code",
        "colab": {}
      },
      "source": [
        "\n",
        "list1 = []\n",
        "arr1 = np.array([])\n",
        "x_train = x_train.to_numpy()\n",
        "for i in range(len(x_train)):\n",
        "    list1.append(x_train[i].reshape(64,64))\n"
      ],
      "execution_count": 0,
      "outputs": []
    },
    {
      "cell_type": "code",
      "metadata": {
        "id": "NoosnEE4ti5c",
        "colab_type": "code",
        "colab": {
          "base_uri": "https://localhost:8080/",
          "height": 34
        },
        "outputId": "6fc910b1-00e6-443d-804f-38e91507cb6d"
      },
      "source": [
        "x_train = np.array(list1)\n",
        "x_train.shape"
      ],
      "execution_count": 9,
      "outputs": [
        {
          "output_type": "execute_result",
          "data": {
            "text/plain": [
              "(10933, 64, 64)"
            ]
          },
          "metadata": {
            "tags": []
          },
          "execution_count": 9
        }
      ]
    },
    {
      "cell_type": "code",
      "metadata": {
        "id": "_T4EOfKituUo",
        "colab_type": "code",
        "colab": {
          "base_uri": "https://localhost:8080/",
          "height": 34
        },
        "outputId": "333d9c48-5dca-40f0-9758-0015eab5ba89"
      },
      "source": [
        "list2 = []\n",
        "arr2 = np.array([])\n",
        "x_test = x_test.to_numpy()\n",
        "for i in range(len(x_test)):\n",
        "    list2.append(x_test[i].reshape(64,64))\n",
        "\n",
        "x_test = np.array(list2)\n",
        "x_test.shape   #printing the shape"
      ],
      "execution_count": 10,
      "outputs": [
        {
          "output_type": "execute_result",
          "data": {
            "text/plain": [
              "(7289, 64, 64)"
            ]
          },
          "metadata": {
            "tags": []
          },
          "execution_count": 10
        }
      ]
    },
    {
      "cell_type": "code",
      "metadata": {
        "id": "7PvfzAIwtwou",
        "colab_type": "code",
        "colab": {
          "base_uri": "https://localhost:8080/",
          "height": 50
        },
        "outputId": "3f8bb6ce-2e6d-4c0a-f4a2-0ba4924ae401"
      },
      "source": [
        "print(y_train.shape)\n",
        "print(y_test.shape)\n",
        "# Reshaping the array to 4-dims so that it can work with the Keras API\n",
        "x_train = x_train.reshape(x_train.shape[0], 64, 64, 1)\n",
        "x_test = x_test.reshape(x_test.shape[0], 64, 64, 1)"
      ],
      "execution_count": 11,
      "outputs": [
        {
          "output_type": "stream",
          "text": [
            "(10933,)\n",
            "(7289,)\n"
          ],
          "name": "stdout"
        }
      ]
    },
    {
      "cell_type": "code",
      "metadata": {
        "id": "wlAl2ixVuRkW",
        "colab_type": "code",
        "colab": {}
      },
      "source": [
        "# Making sure that the values are float so that we can get decimal points after division\n",
        "x_train = x_train.astype('float32')\n",
        "x_test = x_test.astype('float32')"
      ],
      "execution_count": 0,
      "outputs": []
    },
    {
      "cell_type": "markdown",
      "metadata": {
        "id": "QcBl1JDszAcv",
        "colab_type": "text"
      },
      "source": [
        "**CREATING THE MODEL**"
      ]
    },
    {
      "cell_type": "code",
      "metadata": {
        "id": "kOahmpgvuoQ9",
        "colab_type": "code",
        "colab": {
          "base_uri": "https://localhost:8080/",
          "height": 34
        },
        "outputId": "d787dec6-8460-437d-fb09-0fa2071d9374"
      },
      "source": [
        "# Importing the required Keras modules containing model and layers\n",
        "import tensorflow as tf\n",
        "from tensorflow import keras\n",
        "import os\n",
        "from tensorflow.keras.models import Sequential\n",
        "from tensorflow.keras.layers import Dense, Conv2D, Dropout, Flatten, MaxPooling2D, BatchNormalization, Input\n",
        "from keras.optimizers import SGD\n"
      ],
      "execution_count": 13,
      "outputs": [
        {
          "output_type": "stream",
          "text": [
            "Using TensorFlow backend.\n"
          ],
          "name": "stderr"
        }
      ]
    },
    {
      "cell_type": "code",
      "metadata": {
        "id": "cMCCTSy8urCN",
        "colab_type": "code",
        "colab": {
          "base_uri": "https://localhost:8080/",
          "height": 722
        },
        "outputId": "7ae0451e-d82b-476d-fb7b-d05d0f33c37f"
      },
      "source": [
        "def create_model():\n",
        "  def add_conv_block(model, num_filters):\n",
        "    model.add(Conv2D(num_filters, 3, activation='relu', padding = 'same'))\n",
        "    model.add(BatchNormalization())\n",
        "    model.add(Conv2D(num_filters, 3, activation='relu'))\n",
        "    model.add(MaxPooling2D(pool_size = 2))\n",
        "    model.add(Dropout(0.5))\n",
        "    return model\n",
        "  \n",
        "  model = tf.keras.models.Sequential()\n",
        "  model.add(Input(shape = (64, 64, 1)))\n",
        "\n",
        "  model = add_conv_block(model, 32)\n",
        "  model = add_conv_block(model, 64)\n",
        "  model = add_conv_block(model, 128)\n",
        "\n",
        "  model.add(Flatten())\n",
        "  model.add(Dense(2, activation='softmax'))\n",
        "\n",
        "  model.compile(\n",
        "      loss='sparse_categorical_crossentropy',\n",
        "      optimizer=keras.optimizers.Adam( learning_rate=0.001,beta_1 = 0.9,beta_2 = 0.999,epsilon = 1e-8), metrics = ['accuracy']\n",
        "  )\n",
        "  return model\n",
        "          \n",
        "model = create_model()\n",
        "model.summary()"
      ],
      "execution_count": 14,
      "outputs": [
        {
          "output_type": "stream",
          "text": [
            "Model: \"sequential\"\n",
            "_________________________________________________________________\n",
            "Layer (type)                 Output Shape              Param #   \n",
            "=================================================================\n",
            "conv2d (Conv2D)              (None, 64, 64, 32)        320       \n",
            "_________________________________________________________________\n",
            "batch_normalization (BatchNo (None, 64, 64, 32)        128       \n",
            "_________________________________________________________________\n",
            "conv2d_1 (Conv2D)            (None, 62, 62, 32)        9248      \n",
            "_________________________________________________________________\n",
            "max_pooling2d (MaxPooling2D) (None, 31, 31, 32)        0         \n",
            "_________________________________________________________________\n",
            "dropout (Dropout)            (None, 31, 31, 32)        0         \n",
            "_________________________________________________________________\n",
            "conv2d_2 (Conv2D)            (None, 31, 31, 64)        18496     \n",
            "_________________________________________________________________\n",
            "batch_normalization_1 (Batch (None, 31, 31, 64)        256       \n",
            "_________________________________________________________________\n",
            "conv2d_3 (Conv2D)            (None, 29, 29, 64)        36928     \n",
            "_________________________________________________________________\n",
            "max_pooling2d_1 (MaxPooling2 (None, 14, 14, 64)        0         \n",
            "_________________________________________________________________\n",
            "dropout_1 (Dropout)          (None, 14, 14, 64)        0         \n",
            "_________________________________________________________________\n",
            "conv2d_4 (Conv2D)            (None, 14, 14, 128)       73856     \n",
            "_________________________________________________________________\n",
            "batch_normalization_2 (Batch (None, 14, 14, 128)       512       \n",
            "_________________________________________________________________\n",
            "conv2d_5 (Conv2D)            (None, 12, 12, 128)       147584    \n",
            "_________________________________________________________________\n",
            "max_pooling2d_2 (MaxPooling2 (None, 6, 6, 128)         0         \n",
            "_________________________________________________________________\n",
            "dropout_2 (Dropout)          (None, 6, 6, 128)         0         \n",
            "_________________________________________________________________\n",
            "flatten (Flatten)            (None, 4608)              0         \n",
            "_________________________________________________________________\n",
            "dense (Dense)                (None, 2)                 9218      \n",
            "=================================================================\n",
            "Total params: 296,546\n",
            "Trainable params: 296,098\n",
            "Non-trainable params: 448\n",
            "_________________________________________________________________\n"
          ],
          "name": "stdout"
        }
      ]
    },
    {
      "cell_type": "code",
      "metadata": {
        "id": "9KX6O5i73Llz",
        "colab_type": "code",
        "colab": {
          "base_uri": "https://localhost:8080/",
          "height": 353
        },
        "outputId": "0a49a7a2-2712-4a70-abf0-de12e5d27a0c"
      },
      "source": [
        "h = model.fit(\n",
        "    x_train, y_train,\n",
        "    validation_data = (x_test, y_test),\n",
        "    epochs = 10, batch_size = 128,\n",
        "    callbacks = [   \n",
        "        tf.keras.callbacks.ModelCheckpoint('model_new/model_{val_accuracy:.3f}.h5',\n",
        "                                           save_best_only = True, save_weights_only = False,\n",
        "                                           monitor = 'val_accuracy'\n",
        "                                           )\n",
        "\n",
        "    ]\n",
        ")"
      ],
      "execution_count": 15,
      "outputs": [
        {
          "output_type": "stream",
          "text": [
            "Epoch 1/10\n",
            "86/86 [==============================] - 9s 108ms/step - loss: 1.0964 - accuracy: 0.6096 - val_loss: 0.9703 - val_accuracy: 0.4960\n",
            "Epoch 2/10\n",
            "86/86 [==============================] - 8s 95ms/step - loss: 0.7115 - accuracy: 0.6590 - val_loss: 1.1090 - val_accuracy: 0.4960\n",
            "Epoch 3/10\n",
            "86/86 [==============================] - 8s 94ms/step - loss: 0.5973 - accuracy: 0.6869 - val_loss: 2.2225 - val_accuracy: 0.4960\n",
            "Epoch 4/10\n",
            "86/86 [==============================] - 8s 94ms/step - loss: 0.5628 - accuracy: 0.7123 - val_loss: 1.2737 - val_accuracy: 0.4960\n",
            "Epoch 5/10\n",
            "86/86 [==============================] - 8s 94ms/step - loss: 0.5371 - accuracy: 0.7249 - val_loss: 1.5895 - val_accuracy: 0.4960\n",
            "Epoch 6/10\n",
            "86/86 [==============================] - 8s 94ms/step - loss: 0.5228 - accuracy: 0.7406 - val_loss: 1.3830 - val_accuracy: 0.4966\n",
            "Epoch 7/10\n",
            "86/86 [==============================] - 8s 94ms/step - loss: 0.5154 - accuracy: 0.7442 - val_loss: 1.0930 - val_accuracy: 0.5053\n",
            "Epoch 8/10\n",
            "86/86 [==============================] - 8s 95ms/step - loss: 0.5071 - accuracy: 0.7501 - val_loss: 0.6048 - val_accuracy: 0.6600\n",
            "Epoch 9/10\n",
            "86/86 [==============================] - 8s 96ms/step - loss: 0.4855 - accuracy: 0.7603 - val_loss: 0.9995 - val_accuracy: 0.5366\n",
            "Epoch 10/10\n",
            "86/86 [==============================] - 8s 95ms/step - loss: 0.4704 - accuracy: 0.7732 - val_loss: 1.4273 - val_accuracy: 0.5227\n"
          ],
          "name": "stdout"
        }
      ]
    },
    {
      "cell_type": "code",
      "metadata": {
        "id": "VRmB7jJe1iH0",
        "colab_type": "code",
        "colab": {}
      },
      "source": [
        "pred = model.predict(x_test)"
      ],
      "execution_count": 0,
      "outputs": []
    },
    {
      "cell_type": "markdown",
      "metadata": {
        "id": "5okxWU8V6Idr",
        "colab_type": "text"
      },
      "source": [
        "**Model Evaluation on the Test Set**"
      ]
    },
    {
      "cell_type": "code",
      "metadata": {
        "id": "Il1As060160M",
        "colab_type": "code",
        "colab": {}
      },
      "source": [
        "test_eval = model.evaluate(x_test, y_test, verbose=0)"
      ],
      "execution_count": 0,
      "outputs": []
    },
    {
      "cell_type": "code",
      "metadata": {
        "id": "gum5PoM_6Ro_",
        "colab_type": "code",
        "colab": {
          "base_uri": "https://localhost:8080/",
          "height": 34
        },
        "outputId": "905368fb-e337-4f4e-8a56-db87ff0f3f60"
      },
      "source": [
        "\n",
        "print('Test accuracy:', test_eval[1])\n"
      ],
      "execution_count": 18,
      "outputs": [
        {
          "output_type": "stream",
          "text": [
            "Test accuracy: 0.5227054357528687\n"
          ],
          "name": "stdout"
        }
      ]
    },
    {
      "cell_type": "markdown",
      "metadata": {
        "id": "wZRqd8dw6gx5",
        "colab_type": "text"
      },
      "source": [
        "**AS THE TEST LOSS IS MORE LETS TRY HYPERPARAMETER TUNING**"
      ]
    },
    {
      "cell_type": "markdown",
      "metadata": {
        "id": "p_wSHCCQQG08",
        "colab_type": "text"
      },
      "source": [
        "**USING KERAS TUNNER**"
      ]
    },
    {
      "cell_type": "code",
      "metadata": {
        "id": "uaNeIsRKGox5",
        "colab_type": "code",
        "colab": {
          "base_uri": "https://localhost:8080/",
          "height": 269
        },
        "outputId": "b613c993-207f-4e33-c806-577a69e00176"
      },
      "source": [
        "!pip install keras-tuner\n",
        "from kerastuner import RandomSearch\n",
        "from kerastuner.engine.hyperparameters import HyperParameters"
      ],
      "execution_count": 19,
      "outputs": [
        {
          "output_type": "stream",
          "text": [
            "Requirement already satisfied: keras-tuner in /usr/local/lib/python3.6/dist-packages (1.0.1)\n",
            "Requirement already satisfied: tqdm in /usr/local/lib/python3.6/dist-packages (from keras-tuner) (4.41.1)\n",
            "Requirement already satisfied: requests in /usr/local/lib/python3.6/dist-packages (from keras-tuner) (2.23.0)\n",
            "Requirement already satisfied: colorama in /usr/local/lib/python3.6/dist-packages (from keras-tuner) (0.4.3)\n",
            "Requirement already satisfied: terminaltables in /usr/local/lib/python3.6/dist-packages (from keras-tuner) (3.1.0)\n",
            "Requirement already satisfied: tabulate in /usr/local/lib/python3.6/dist-packages (from keras-tuner) (0.8.7)\n",
            "Requirement already satisfied: future in /usr/local/lib/python3.6/dist-packages (from keras-tuner) (0.16.0)\n",
            "Requirement already satisfied: numpy in /usr/local/lib/python3.6/dist-packages (from keras-tuner) (1.18.4)\n",
            "Requirement already satisfied: scikit-learn in /usr/local/lib/python3.6/dist-packages (from keras-tuner) (0.22.2.post1)\n",
            "Requirement already satisfied: scipy in /usr/local/lib/python3.6/dist-packages (from keras-tuner) (1.4.1)\n",
            "Requirement already satisfied: chardet<4,>=3.0.2 in /usr/local/lib/python3.6/dist-packages (from requests->keras-tuner) (3.0.4)\n",
            "Requirement already satisfied: certifi>=2017.4.17 in /usr/local/lib/python3.6/dist-packages (from requests->keras-tuner) (2020.4.5.1)\n",
            "Requirement already satisfied: urllib3!=1.25.0,!=1.25.1,<1.26,>=1.21.1 in /usr/local/lib/python3.6/dist-packages (from requests->keras-tuner) (1.24.3)\n",
            "Requirement already satisfied: idna<3,>=2.5 in /usr/local/lib/python3.6/dist-packages (from requests->keras-tuner) (2.9)\n",
            "Requirement already satisfied: joblib>=0.11 in /usr/local/lib/python3.6/dist-packages (from scikit-learn->keras-tuner) (0.15.1)\n"
          ],
          "name": "stdout"
        }
      ]
    },
    {
      "cell_type": "code",
      "metadata": {
        "id": "ubzLyjBtTWky",
        "colab_type": "code",
        "colab": {}
      },
      "source": [
        "def build_model(hp):  \n",
        "  model = keras.Sequential([\n",
        "    keras.layers.Conv2D(\n",
        "        filters=hp.Int('conv_1_filter', min_value=32, max_value=64, step=16),\n",
        "        kernel_size=hp.Choice('conv_1_kernel', values = [3,3]),\n",
        "        activation='relu',\n",
        "        input_shape=(64,64,1)\n",
        "    ),\n",
        "    keras.layers.Conv2D(\n",
        "        filters=hp.Int('conv_2_filter', min_value=64, max_value=128, step=16),\n",
        "        kernel_size=hp.Choice('conv_2_kernel', values = [3,3]),\n",
        "        activation='relu'\n",
        "    ),\n",
        "    keras.layers.Flatten(),\n",
        "    keras.layers.Dense(\n",
        "        units=hp.Int('dense_1_units', min_value=1024, max_value=2048, step=16),\n",
        "        activation='relu'\n",
        "    ),\n",
        "    keras.layers.Dense(2, activation='softmax')\n",
        "  ])\n",
        "  \n",
        "  model.compile(optimizer=keras.optimizers.Adam(hp.Choice('learning_rate', values=[1e-3, 1e-4])),\n",
        "              loss='sparse_categorical_crossentropy',\n",
        "              metrics=['accuracy'])\n",
        "  \n",
        "  return model"
      ],
      "execution_count": 0,
      "outputs": []
    },
    {
      "cell_type": "code",
      "metadata": {
        "id": "Fd4zxO0bSDq0",
        "colab_type": "code",
        "colab": {
          "base_uri": "https://localhost:8080/",
          "height": 50
        },
        "outputId": "4dbad37c-21d5-4662-acbf-431832e0c73c"
      },
      "source": [
        "tuner_search=RandomSearch(build_model,\n",
        "                          objective='val_accuracy',\n",
        "                          max_trials=5)"
      ],
      "execution_count": 21,
      "outputs": [
        {
          "output_type": "stream",
          "text": [
            "INFO:tensorflow:Reloading Oracle from existing project ./untitled_project/oracle.json\n",
            "INFO:tensorflow:Reloading Tuner from ./untitled_project/tuner0.json\n"
          ],
          "name": "stdout"
        }
      ]
    },
    {
      "cell_type": "code",
      "metadata": {
        "id": "8UDnPfEtTKE9",
        "colab_type": "code",
        "colab": {
          "base_uri": "https://localhost:8080/",
          "height": 34
        },
        "outputId": "768cb6b3-e505-444e-e673-1de6b7bf6eae"
      },
      "source": [
        "tuner_search.search(x_train,y_train,epochs=3,validation_split=0.1)"
      ],
      "execution_count": 22,
      "outputs": [
        {
          "output_type": "stream",
          "text": [
            "INFO:tensorflow:Oracle triggered exit\n"
          ],
          "name": "stdout"
        }
      ]
    },
    {
      "cell_type": "code",
      "metadata": {
        "id": "FXa3-NyZShlP",
        "colab_type": "code",
        "colab": {}
      },
      "source": [
        "model=tuner_search.get_best_models(num_models=1)[0]"
      ],
      "execution_count": 0,
      "outputs": []
    },
    {
      "cell_type": "code",
      "metadata": {
        "id": "OPE1tCV5SxEG",
        "colab_type": "code",
        "colab": {
          "base_uri": "https://localhost:8080/",
          "height": 319
        },
        "outputId": "d189ac06-1cff-4bb5-fee8-31b20c70f4a9"
      },
      "source": [
        "model.summary()"
      ],
      "execution_count": 24,
      "outputs": [
        {
          "output_type": "stream",
          "text": [
            "Model: \"sequential\"\n",
            "_________________________________________________________________\n",
            "Layer (type)                 Output Shape              Param #   \n",
            "=================================================================\n",
            "conv2d (Conv2D)              (None, 62, 62, 112)       1120      \n",
            "_________________________________________________________________\n",
            "conv2d_1 (Conv2D)            (None, 60, 60, 48)        48432     \n",
            "_________________________________________________________________\n",
            "flatten (Flatten)            (None, 172800)            0         \n",
            "_________________________________________________________________\n",
            "dense (Dense)                (None, 48)                8294448   \n",
            "_________________________________________________________________\n",
            "dense_1 (Dense)              (None, 2)                 98        \n",
            "=================================================================\n",
            "Total params: 8,344,098\n",
            "Trainable params: 8,344,098\n",
            "Non-trainable params: 0\n",
            "_________________________________________________________________\n"
          ],
          "name": "stdout"
        }
      ]
    },
    {
      "cell_type": "code",
      "metadata": {
        "id": "T7oXWaGxUSmA",
        "colab_type": "code",
        "colab": {
          "base_uri": "https://localhost:8080/",
          "height": 689
        },
        "outputId": "cf5cf1d7-6844-4a2d-e981-87ab49aef09a"
      },
      "source": [
        "reduce_lr = tf.keras.callbacks.ReduceLROnPlateau(monitor='val_loss', factor=0.2,\n",
        "                              patience=1, min_lr=0.00001)\n",
        "h2 = model.fit(x_train, y_train, epochs=20, validation_split=0.1, callbacks =[reduce_lr], batch_size=128)"
      ],
      "execution_count": 25,
      "outputs": [
        {
          "output_type": "stream",
          "text": [
            "Epoch 1/20\n",
            "77/77 [==============================] - 10s 130ms/step - loss: 0.5733 - accuracy: 0.6737 - val_loss: 0.5801 - val_accuracy: 0.6673 - lr: 0.0010\n",
            "Epoch 2/20\n",
            "77/77 [==============================] - 9s 117ms/step - loss: 0.5505 - accuracy: 0.6914 - val_loss: 0.5807 - val_accuracy: 0.6737 - lr: 0.0010\n",
            "Epoch 3/20\n",
            "77/77 [==============================] - 9s 117ms/step - loss: 0.5285 - accuracy: 0.7098 - val_loss: 0.5766 - val_accuracy: 0.6746 - lr: 2.0000e-04\n",
            "Epoch 4/20\n",
            "77/77 [==============================] - 9s 117ms/step - loss: 0.5178 - accuracy: 0.7162 - val_loss: 0.5755 - val_accuracy: 0.6737 - lr: 2.0000e-04\n",
            "Epoch 5/20\n",
            "77/77 [==============================] - 9s 119ms/step - loss: 0.5080 - accuracy: 0.7248 - val_loss: 0.5733 - val_accuracy: 0.6801 - lr: 2.0000e-04\n",
            "Epoch 6/20\n",
            "77/77 [==============================] - 9s 118ms/step - loss: 0.4916 - accuracy: 0.7354 - val_loss: 0.5698 - val_accuracy: 0.6801 - lr: 2.0000e-04\n",
            "Epoch 7/20\n",
            "77/77 [==============================] - 9s 119ms/step - loss: 0.4709 - accuracy: 0.7480 - val_loss: 0.5637 - val_accuracy: 0.6910 - lr: 2.0000e-04\n",
            "Epoch 8/20\n",
            "77/77 [==============================] - 9s 118ms/step - loss: 0.4467 - accuracy: 0.7629 - val_loss: 0.5685 - val_accuracy: 0.6956 - lr: 2.0000e-04\n",
            "Epoch 9/20\n",
            "77/77 [==============================] - 9s 119ms/step - loss: 0.4209 - accuracy: 0.7788 - val_loss: 0.5680 - val_accuracy: 0.6993 - lr: 4.0000e-05\n",
            "Epoch 10/20\n",
            "77/77 [==============================] - 9s 120ms/step - loss: 0.4144 - accuracy: 0.7824 - val_loss: 0.5689 - val_accuracy: 0.6984 - lr: 1.0000e-05\n",
            "Epoch 11/20\n",
            "77/77 [==============================] - 9s 120ms/step - loss: 0.4129 - accuracy: 0.7836 - val_loss: 0.5698 - val_accuracy: 0.6938 - lr: 1.0000e-05\n",
            "Epoch 12/20\n",
            "77/77 [==============================] - 9s 118ms/step - loss: 0.4116 - accuracy: 0.7844 - val_loss: 0.5697 - val_accuracy: 0.6965 - lr: 1.0000e-05\n",
            "Epoch 13/20\n",
            "77/77 [==============================] - 9s 118ms/step - loss: 0.4104 - accuracy: 0.7852 - val_loss: 0.5703 - val_accuracy: 0.6956 - lr: 1.0000e-05\n",
            "Epoch 14/20\n",
            "77/77 [==============================] - 9s 118ms/step - loss: 0.4091 - accuracy: 0.7860 - val_loss: 0.5707 - val_accuracy: 0.6965 - lr: 1.0000e-05\n",
            "Epoch 15/20\n",
            "77/77 [==============================] - 9s 118ms/step - loss: 0.4079 - accuracy: 0.7864 - val_loss: 0.5710 - val_accuracy: 0.6984 - lr: 1.0000e-05\n",
            "Epoch 16/20\n",
            "77/77 [==============================] - 9s 117ms/step - loss: 0.4068 - accuracy: 0.7874 - val_loss: 0.5714 - val_accuracy: 0.6965 - lr: 1.0000e-05\n",
            "Epoch 17/20\n",
            "77/77 [==============================] - 9s 118ms/step - loss: 0.4057 - accuracy: 0.7873 - val_loss: 0.5717 - val_accuracy: 0.6974 - lr: 1.0000e-05\n",
            "Epoch 18/20\n",
            "77/77 [==============================] - 9s 118ms/step - loss: 0.4045 - accuracy: 0.7886 - val_loss: 0.5721 - val_accuracy: 0.6974 - lr: 1.0000e-05\n",
            "Epoch 19/20\n",
            "77/77 [==============================] - 9s 118ms/step - loss: 0.4034 - accuracy: 0.7890 - val_loss: 0.5727 - val_accuracy: 0.6974 - lr: 1.0000e-05\n",
            "Epoch 20/20\n",
            "77/77 [==============================] - 9s 119ms/step - loss: 0.4024 - accuracy: 0.7884 - val_loss: 0.5729 - val_accuracy: 0.6993 - lr: 1.0000e-05\n"
          ],
          "name": "stdout"
        }
      ]
    },
    {
      "cell_type": "code",
      "metadata": {
        "id": "cNtCPrtWXiFb",
        "colab_type": "code",
        "colab": {
          "base_uri": "https://localhost:8080/",
          "height": 34
        },
        "outputId": "0935bdc6-6241-4223-8b95-e43cb9186ce6"
      },
      "source": [
        "pred = model.predict(x_test)\n",
        "test_eval = model.evaluate(x_test, y_test, verbose=0)\n",
        "print('Test accuracy:', test_eval[1])"
      ],
      "execution_count": 26,
      "outputs": [
        {
          "output_type": "stream",
          "text": [
            "Test accuracy: 0.688023030757904\n"
          ],
          "name": "stdout"
        }
      ]
    },
    {
      "cell_type": "code",
      "metadata": {
        "id": "jhMOUUoW7Ghc",
        "colab_type": "code",
        "colab": {}
      },
      "source": [
        ""
      ],
      "execution_count": 0,
      "outputs": []
    },
    {
      "cell_type": "code",
      "metadata": {
        "id": "CnnPGwlQ7vSg",
        "colab_type": "code",
        "colab": {}
      },
      "source": [
        ""
      ],
      "execution_count": 0,
      "outputs": []
    }
  ]
}
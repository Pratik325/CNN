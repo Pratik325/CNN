{
  "nbformat": 4,
  "nbformat_minor": 0,
  "metadata": {
    "colab": {
      "name": "project half",
      "provenance": [],
      "collapsed_sections": [],
      "mount_file_id": "1HrixJTE9HzKur4I78ZLy2n8nDg92odWe",
      "authorship_tag": "ABX9TyNPevHsu7q+BRlfgsCinEo2",
      "include_colab_link": true
    },
    "kernelspec": {
      "name": "python3",
      "display_name": "Python 3"
    },
    "accelerator": "GPU"
  },
  "cells": [
    {
      "cell_type": "markdown",
      "metadata": {
        "id": "view-in-github",
        "colab_type": "text"
      },
      "source": [
        "<a href=\"https://colab.research.google.com/github/Pratik325/CNN/blob/master/project_half.ipynb\" target=\"_parent\"><img src=\"https://colab.research.google.com/assets/colab-badge.svg\" alt=\"Open In Colab\"/></a>"
      ]
    },
    {
      "cell_type": "markdown",
      "metadata": {
        "id": "lnhpGZ3_yH-N",
        "colab_type": "text"
      },
      "source": [
        "**IMPORTING STATEMENTS**"
      ]
    },
    {
      "cell_type": "code",
      "metadata": {
        "id": "TYt13rlUzzIs",
        "colab_type": "code",
        "colab": {}
      },
      "source": [
        "import pandas as pd\n",
        "import numpy as np\n",
        "import matplotlib.pyplot as plt\n"
      ],
      "execution_count": 0,
      "outputs": []
    },
    {
      "cell_type": "markdown",
      "metadata": {
        "id": "QY39YlhyyQCQ",
        "colab_type": "text"
      },
      "source": [
        "**DATAFRAME**"
      ]
    },
    {
      "cell_type": "code",
      "metadata": {
        "id": "RTjMNqXwqo4r",
        "colab_type": "code",
        "colab": {}
      },
      "source": [
        "df_global = pd.read_csv('/content/drive/My Drive/project.csv')"
      ],
      "execution_count": 0,
      "outputs": []
    },
    {
      "cell_type": "markdown",
      "metadata": {
        "id": "QNXkq2tIyqoa",
        "colab_type": "text"
      },
      "source": [
        "**PRINITNG THE SHAPE**"
      ]
    },
    {
      "cell_type": "code",
      "metadata": {
        "id": "KTKDbXX6tdg8",
        "colab_type": "code",
        "colab": {
          "base_uri": "https://localhost:8080/",
          "height": 34
        },
        "outputId": "6c8df939-e0ed-49ea-f004-54cbbbf75b30"
      },
      "source": [
        "df_global.shape"
      ],
      "execution_count": 3,
      "outputs": [
        {
          "output_type": "execute_result",
          "data": {
            "text/plain": [
              "(18222, 4097)"
            ]
          },
          "metadata": {
            "tags": []
          },
          "execution_count": 3
        }
      ]
    },
    {
      "cell_type": "markdown",
      "metadata": {
        "id": "zmmrRx32ywjt",
        "colab_type": "text"
      },
      "source": [
        "**SPLITTING THE DATA**"
      ]
    },
    {
      "cell_type": "code",
      "metadata": {
        "id": "uo9gOiGCrZby",
        "colab_type": "code",
        "colab": {
          "base_uri": "https://localhost:8080/",
          "height": 50
        },
        "outputId": "d34bbae5-1163-4493-8681-f3b0a36f1023"
      },
      "source": [
        "X = df_global.drop('labels', axis = 1)\n",
        "y = df_global['labels']\n",
        "print(X.shape)\n",
        "print(y.shape)"
      ],
      "execution_count": 4,
      "outputs": [
        {
          "output_type": "stream",
          "text": [
            "(18222, 4096)\n",
            "(18222,)\n"
          ],
          "name": "stdout"
        }
      ]
    },
    {
      "cell_type": "markdown",
      "metadata": {
        "id": "agEAc2PPy05Z",
        "colab_type": "text"
      },
      "source": [
        "**IMPORTING AND NORMALIZATIONS**"
      ]
    },
    {
      "cell_type": "code",
      "metadata": {
        "id": "X2VT5JMDrbBv",
        "colab_type": "code",
        "colab": {}
      },
      "source": [
        "from sklearn.model_selection import train_test_split\n",
        "x_train, x_test, y_train, y_test = train_test_split(X,y ,test_size = 0.4)\n",
        "\n",
        "# Normalizing the RGB codes by dividing it to the max RGB value.\n",
        "x_train = x_train/255.\n",
        "x_test = x_test/255.\n"
      ],
      "execution_count": 0,
      "outputs": []
    },
    {
      "cell_type": "code",
      "metadata": {
        "id": "6p77QqW9qNyD",
        "colab_type": "code",
        "colab": {
          "base_uri": "https://localhost:8080/",
          "height": 34
        },
        "outputId": "c3f77226-de5e-483f-855c-5589681ddf5c"
      },
      "source": [
        "print(x_train.shape)"
      ],
      "execution_count": 6,
      "outputs": [
        {
          "output_type": "stream",
          "text": [
            "(10933, 4096)\n"
          ],
          "name": "stdout"
        }
      ]
    },
    {
      "cell_type": "code",
      "metadata": {
        "id": "tuIjAacjqSBN",
        "colab_type": "code",
        "colab": {
          "base_uri": "https://localhost:8080/",
          "height": 34
        },
        "outputId": "d84abf10-351f-4f07-956f-c1bc08e07a91"
      },
      "source": [
        "print(x_test.shape)"
      ],
      "execution_count": 7,
      "outputs": [
        {
          "output_type": "stream",
          "text": [
            "(7289, 4096)\n"
          ],
          "name": "stdout"
        }
      ]
    },
    {
      "cell_type": "markdown",
      "metadata": {
        "id": "Z3LL6TOuy62s",
        "colab_type": "text"
      },
      "source": [
        "**CONVERTING TO DESIRED SHAPE REQUIRED BY THE KERAS API**"
      ]
    },
    {
      "cell_type": "code",
      "metadata": {
        "id": "4p12s3fWrm5-",
        "colab_type": "code",
        "colab": {}
      },
      "source": [
        "\n",
        "list1 = []\n",
        "arr1 = np.array([])\n",
        "x_train = x_train.to_numpy()\n",
        "for i in range(len(x_train)):\n",
        "    list1.append(x_train[i].reshape(64,64))\n"
      ],
      "execution_count": 0,
      "outputs": []
    },
    {
      "cell_type": "code",
      "metadata": {
        "id": "NoosnEE4ti5c",
        "colab_type": "code",
        "colab": {
          "base_uri": "https://localhost:8080/",
          "height": 34
        },
        "outputId": "e4c13ae9-417c-4871-b6e9-fe70c2fd8979"
      },
      "source": [
        "x_train = np.array(list1)\n",
        "x_train.shape"
      ],
      "execution_count": 9,
      "outputs": [
        {
          "output_type": "execute_result",
          "data": {
            "text/plain": [
              "(10933, 64, 64)"
            ]
          },
          "metadata": {
            "tags": []
          },
          "execution_count": 9
        }
      ]
    },
    {
      "cell_type": "code",
      "metadata": {
        "id": "_T4EOfKituUo",
        "colab_type": "code",
        "colab": {
          "base_uri": "https://localhost:8080/",
          "height": 34
        },
        "outputId": "74efb8f2-a53e-4bd9-d00d-44053a30b9d9"
      },
      "source": [
        "list2 = []\n",
        "arr2 = np.array([])\n",
        "x_test = x_test.to_numpy()\n",
        "for i in range(len(x_test)):\n",
        "    list2.append(x_test[i].reshape(64,64))\n",
        "\n",
        "x_test = np.array(list2)\n",
        "x_test.shape   #printing the shape"
      ],
      "execution_count": 10,
      "outputs": [
        {
          "output_type": "execute_result",
          "data": {
            "text/plain": [
              "(7289, 64, 64)"
            ]
          },
          "metadata": {
            "tags": []
          },
          "execution_count": 10
        }
      ]
    },
    {
      "cell_type": "code",
      "metadata": {
        "id": "7PvfzAIwtwou",
        "colab_type": "code",
        "colab": {
          "base_uri": "https://localhost:8080/",
          "height": 50
        },
        "outputId": "9526a0dd-6cdf-47c2-e25e-a9fe83c4d01d"
      },
      "source": [
        "print(y_train.shape)\n",
        "print(y_test.shape)\n",
        "# Reshaping the array to 4-dims so that it can work with the Keras API\n",
        "x_train = x_train.reshape(x_train.shape[0], 64, 64, 1)\n",
        "x_test = x_test.reshape(x_test.shape[0], 64, 64, 1)"
      ],
      "execution_count": 11,
      "outputs": [
        {
          "output_type": "stream",
          "text": [
            "(10933,)\n",
            "(7289,)\n"
          ],
          "name": "stdout"
        }
      ]
    },
    {
      "cell_type": "code",
      "metadata": {
        "id": "wlAl2ixVuRkW",
        "colab_type": "code",
        "colab": {}
      },
      "source": [
        "# Making sure that the values are float so that we can get decimal points after division\n",
        "x_train = x_train.astype('float32')\n",
        "x_test = x_test.astype('float32')"
      ],
      "execution_count": 0,
      "outputs": []
    },
    {
      "cell_type": "markdown",
      "metadata": {
        "id": "QcBl1JDszAcv",
        "colab_type": "text"
      },
      "source": [
        "**CREATING THE MODEL**"
      ]
    },
    {
      "cell_type": "code",
      "metadata": {
        "id": "kOahmpgvuoQ9",
        "colab_type": "code",
        "colab": {
          "base_uri": "https://localhost:8080/",
          "height": 34
        },
        "outputId": "95f7300b-0626-4a6c-c1a2-611f16ef63f0"
      },
      "source": [
        "# Importing the required Keras modules containing model and layers\n",
        "import tensorflow as tf\n",
        "from tensorflow import keras\n",
        "import os\n",
        "from tensorflow.keras.models import Sequential\n",
        "from tensorflow.keras.layers import Dense, Conv2D, Dropout, Flatten, MaxPooling2D, BatchNormalization, Input\n",
        "from keras.optimizers import SGD\n"
      ],
      "execution_count": 13,
      "outputs": [
        {
          "output_type": "stream",
          "text": [
            "Using TensorFlow backend.\n"
          ],
          "name": "stderr"
        }
      ]
    },
    {
      "cell_type": "code",
      "metadata": {
        "id": "cMCCTSy8urCN",
        "colab_type": "code",
        "colab": {
          "base_uri": "https://localhost:8080/",
          "height": 722
        },
        "outputId": "e2409afd-26fe-437c-b303-18cd457ba53d"
      },
      "source": [
        "def create_model():\n",
        "  def add_conv_block(model, num_filters):\n",
        "    model.add(Conv2D(num_filters, 3, activation='relu', padding = 'same'))\n",
        "    model.add(BatchNormalization())\n",
        "    model.add(Conv2D(num_filters, 3, activation='relu'))\n",
        "    model.add(MaxPooling2D(pool_size = 2))\n",
        "    model.add(Dropout(0.5))\n",
        "    return model\n",
        "  \n",
        "  model = tf.keras.models.Sequential()\n",
        "  model.add(Input(shape = (64, 64, 1)))\n",
        "\n",
        "  model = add_conv_block(model, 32)\n",
        "  model = add_conv_block(model, 64)\n",
        "  model = add_conv_block(model, 128)\n",
        "\n",
        "  model.add(Flatten())\n",
        "  model.add(Dense(2, activation='softmax'))\n",
        "\n",
        "  model.compile(\n",
        "      loss='sparse_categorical_crossentropy',\n",
        "      optimizer=keras.optimizers.Adam( learning_rate=0.001,beta_1 = 0.9,beta_2 = 0.999,epsilon = 1e-8), metrics = ['accuracy']\n",
        "  )\n",
        "  return model\n",
        "          \n",
        "model = create_model()\n",
        "model.summary()"
      ],
      "execution_count": 14,
      "outputs": [
        {
          "output_type": "stream",
          "text": [
            "Model: \"sequential\"\n",
            "_________________________________________________________________\n",
            "Layer (type)                 Output Shape              Param #   \n",
            "=================================================================\n",
            "conv2d (Conv2D)              (None, 64, 64, 32)        320       \n",
            "_________________________________________________________________\n",
            "batch_normalization (BatchNo (None, 64, 64, 32)        128       \n",
            "_________________________________________________________________\n",
            "conv2d_1 (Conv2D)            (None, 62, 62, 32)        9248      \n",
            "_________________________________________________________________\n",
            "max_pooling2d (MaxPooling2D) (None, 31, 31, 32)        0         \n",
            "_________________________________________________________________\n",
            "dropout (Dropout)            (None, 31, 31, 32)        0         \n",
            "_________________________________________________________________\n",
            "conv2d_2 (Conv2D)            (None, 31, 31, 64)        18496     \n",
            "_________________________________________________________________\n",
            "batch_normalization_1 (Batch (None, 31, 31, 64)        256       \n",
            "_________________________________________________________________\n",
            "conv2d_3 (Conv2D)            (None, 29, 29, 64)        36928     \n",
            "_________________________________________________________________\n",
            "max_pooling2d_1 (MaxPooling2 (None, 14, 14, 64)        0         \n",
            "_________________________________________________________________\n",
            "dropout_1 (Dropout)          (None, 14, 14, 64)        0         \n",
            "_________________________________________________________________\n",
            "conv2d_4 (Conv2D)            (None, 14, 14, 128)       73856     \n",
            "_________________________________________________________________\n",
            "batch_normalization_2 (Batch (None, 14, 14, 128)       512       \n",
            "_________________________________________________________________\n",
            "conv2d_5 (Conv2D)            (None, 12, 12, 128)       147584    \n",
            "_________________________________________________________________\n",
            "max_pooling2d_2 (MaxPooling2 (None, 6, 6, 128)         0         \n",
            "_________________________________________________________________\n",
            "dropout_2 (Dropout)          (None, 6, 6, 128)         0         \n",
            "_________________________________________________________________\n",
            "flatten (Flatten)            (None, 4608)              0         \n",
            "_________________________________________________________________\n",
            "dense (Dense)                (None, 2)                 9218      \n",
            "=================================================================\n",
            "Total params: 296,546\n",
            "Trainable params: 296,098\n",
            "Non-trainable params: 448\n",
            "_________________________________________________________________\n"
          ],
          "name": "stdout"
        }
      ]
    },
    {
      "cell_type": "code",
      "metadata": {
        "id": "9KX6O5i73Llz",
        "colab_type": "code",
        "colab": {
          "base_uri": "https://localhost:8080/",
          "height": 353
        },
        "outputId": "965aa73d-9964-47e6-db3d-71691689cf9e"
      },
      "source": [
        "h = model.fit(\n",
        "    x_train, y_train,\n",
        "    validation_data = (x_test, y_test),\n",
        "    epochs = 10, batch_size = 128,\n",
        "    callbacks = [   \n",
        "        tf.keras.callbacks.ModelCheckpoint('model_new/model_{val_accuracy:.3f}.h5',\n",
        "                                           save_best_only = True, save_weights_only = False,\n",
        "                                           monitor = 'val_accuracy'\n",
        "                                           )\n",
        "\n",
        "    ]\n",
        ")"
      ],
      "execution_count": 15,
      "outputs": [
        {
          "output_type": "stream",
          "text": [
            "Epoch 1/10\n",
            "86/86 [==============================] - 9s 107ms/step - loss: 1.0955 - accuracy: 0.6067 - val_loss: 1.1301 - val_accuracy: 0.4991\n",
            "Epoch 2/10\n",
            "86/86 [==============================] - 8s 96ms/step - loss: 0.7341 - accuracy: 0.6613 - val_loss: 1.4511 - val_accuracy: 0.4991\n",
            "Epoch 3/10\n",
            "86/86 [==============================] - 8s 95ms/step - loss: 0.5925 - accuracy: 0.6972 - val_loss: 1.7806 - val_accuracy: 0.4991\n",
            "Epoch 4/10\n",
            "86/86 [==============================] - 8s 95ms/step - loss: 0.5484 - accuracy: 0.7247 - val_loss: 2.8445 - val_accuracy: 0.4991\n",
            "Epoch 5/10\n",
            "86/86 [==============================] - 8s 94ms/step - loss: 0.5345 - accuracy: 0.7334 - val_loss: 3.3139 - val_accuracy: 0.4991\n",
            "Epoch 6/10\n",
            "86/86 [==============================] - 8s 94ms/step - loss: 0.5162 - accuracy: 0.7442 - val_loss: 2.5832 - val_accuracy: 0.4991\n",
            "Epoch 7/10\n",
            "86/86 [==============================] - 8s 94ms/step - loss: 0.4954 - accuracy: 0.7578 - val_loss: 3.4062 - val_accuracy: 0.4991\n",
            "Epoch 8/10\n",
            "86/86 [==============================] - 8s 95ms/step - loss: 0.4880 - accuracy: 0.7663 - val_loss: 2.0734 - val_accuracy: 0.4991\n",
            "Epoch 9/10\n",
            "86/86 [==============================] - 8s 94ms/step - loss: 0.4653 - accuracy: 0.7720 - val_loss: 3.0376 - val_accuracy: 0.4991\n",
            "Epoch 10/10\n",
            "86/86 [==============================] - 8s 94ms/step - loss: 0.4516 - accuracy: 0.7797 - val_loss: 3.3474 - val_accuracy: 0.4992\n"
          ],
          "name": "stdout"
        }
      ]
    },
    {
      "cell_type": "code",
      "metadata": {
        "id": "VRmB7jJe1iH0",
        "colab_type": "code",
        "colab": {}
      },
      "source": [
        "pred = model.predict(x_test)"
      ],
      "execution_count": 0,
      "outputs": []
    },
    {
      "cell_type": "markdown",
      "metadata": {
        "id": "5okxWU8V6Idr",
        "colab_type": "text"
      },
      "source": [
        "**Model Evaluation on the Test Set**"
      ]
    },
    {
      "cell_type": "code",
      "metadata": {
        "id": "Il1As060160M",
        "colab_type": "code",
        "colab": {}
      },
      "source": [
        "test_eval = model.evaluate(x_test, y_test, verbose=0)"
      ],
      "execution_count": 0,
      "outputs": []
    },
    {
      "cell_type": "code",
      "metadata": {
        "id": "gum5PoM_6Ro_",
        "colab_type": "code",
        "colab": {
          "base_uri": "https://localhost:8080/",
          "height": 34
        },
        "outputId": "4697fdf0-4229-4955-f894-a797f094a2e7"
      },
      "source": [
        "\n",
        "print('Test accuracy:', test_eval[1])\n"
      ],
      "execution_count": 18,
      "outputs": [
        {
          "output_type": "stream",
          "text": [
            "Test accuracy: 0.49924543499946594\n"
          ],
          "name": "stdout"
        }
      ]
    },
    {
      "cell_type": "markdown",
      "metadata": {
        "id": "wZRqd8dw6gx5",
        "colab_type": "text"
      },
      "source": [
        "**AS THE TEST LOSS IS MORE LETS TRY HYPERPARAMETER TUNING**"
      ]
    },
    {
      "cell_type": "markdown",
      "metadata": {
        "id": "p_wSHCCQQG08",
        "colab_type": "text"
      },
      "source": [
        "**USING KERAS TUNNER**"
      ]
    },
    {
      "cell_type": "code",
      "metadata": {
        "id": "uaNeIsRKGox5",
        "colab_type": "code",
        "colab": {
          "base_uri": "https://localhost:8080/",
          "height": 269
        },
        "outputId": "7cff14fc-bac6-4c2c-e5fa-1d2f93792312"
      },
      "source": [
        "!pip install keras-tuner\n",
        "from kerastuner import RandomSearch\n",
        "from kerastuner.engine.hyperparameters import HyperParameters"
      ],
      "execution_count": 19,
      "outputs": [
        {
          "output_type": "stream",
          "text": [
            "Requirement already satisfied: keras-tuner in /usr/local/lib/python3.6/dist-packages (1.0.1)\n",
            "Requirement already satisfied: numpy in /usr/local/lib/python3.6/dist-packages (from keras-tuner) (1.18.4)\n",
            "Requirement already satisfied: colorama in /usr/local/lib/python3.6/dist-packages (from keras-tuner) (0.4.3)\n",
            "Requirement already satisfied: scipy in /usr/local/lib/python3.6/dist-packages (from keras-tuner) (1.4.1)\n",
            "Requirement already satisfied: requests in /usr/local/lib/python3.6/dist-packages (from keras-tuner) (2.23.0)\n",
            "Requirement already satisfied: scikit-learn in /usr/local/lib/python3.6/dist-packages (from keras-tuner) (0.22.2.post1)\n",
            "Requirement already satisfied: terminaltables in /usr/local/lib/python3.6/dist-packages (from keras-tuner) (3.1.0)\n",
            "Requirement already satisfied: tqdm in /usr/local/lib/python3.6/dist-packages (from keras-tuner) (4.41.1)\n",
            "Requirement already satisfied: tabulate in /usr/local/lib/python3.6/dist-packages (from keras-tuner) (0.8.7)\n",
            "Requirement already satisfied: future in /usr/local/lib/python3.6/dist-packages (from keras-tuner) (0.16.0)\n",
            "Requirement already satisfied: idna<3,>=2.5 in /usr/local/lib/python3.6/dist-packages (from requests->keras-tuner) (2.9)\n",
            "Requirement already satisfied: urllib3!=1.25.0,!=1.25.1,<1.26,>=1.21.1 in /usr/local/lib/python3.6/dist-packages (from requests->keras-tuner) (1.24.3)\n",
            "Requirement already satisfied: chardet<4,>=3.0.2 in /usr/local/lib/python3.6/dist-packages (from requests->keras-tuner) (3.0.4)\n",
            "Requirement already satisfied: certifi>=2017.4.17 in /usr/local/lib/python3.6/dist-packages (from requests->keras-tuner) (2020.4.5.1)\n",
            "Requirement already satisfied: joblib>=0.11 in /usr/local/lib/python3.6/dist-packages (from scikit-learn->keras-tuner) (0.15.1)\n"
          ],
          "name": "stdout"
        }
      ]
    },
    {
      "cell_type": "code",
      "metadata": {
        "id": "ubzLyjBtTWky",
        "colab_type": "code",
        "colab": {}
      },
      "source": [
        "def build_model(hp):  \n",
        "  model = keras.Sequential([\n",
        "    keras.layers.Conv2D(\n",
        "        filters=hp.Int('conv_1_filter', min_value=32, max_value=128, step=16),\n",
        "        kernel_size=hp.Choice('conv_1_kernel', values = [3,3] ),\n",
        "        activation='relu',\n",
        "        input_shape=(64,64,1)\n",
        "    ),\n",
        "    keras.layers.Conv2D(\n",
        "        filters=hp.Int('conv_2_filter', min_value=32, max_value=64, step=16),\n",
        "        kernel_size=hp.Choice('conv_2_kernel', values = [3,3]),\n",
        "        activation='relu'\n",
        "    ),\n",
        "    keras.layers.Flatten(),\n",
        "    keras.layers.Dense(\n",
        "        units=hp.Int('dense_1_units', min_value=32, max_value=128, step=16),\n",
        "        activation='relu'\n",
        "    ),\n",
        "    keras.layers.Dense(2, activation='softmax')\n",
        "  ])\n",
        "  \n",
        "  model.compile(optimizer=keras.optimizers.Adam(hp.Choice('learning_rate', values=[1e-2, 1e-3])),\n",
        "              loss='sparse_categorical_crossentropy',\n",
        "              metrics=['accuracy'])\n",
        "  \n",
        "  return model"
      ],
      "execution_count": 0,
      "outputs": []
    },
    {
      "cell_type": "code",
      "metadata": {
        "id": "Fd4zxO0bSDq0",
        "colab_type": "code",
        "colab": {
          "base_uri": "https://localhost:8080/",
          "height": 50
        },
        "outputId": "221e16aa-b62f-46e0-afd8-a6b27a9e317b"
      },
      "source": [
        "tuner_search=RandomSearch(build_model,\n",
        "                          objective='val_accuracy',\n",
        "                          max_trials=5)"
      ],
      "execution_count": 21,
      "outputs": [
        {
          "output_type": "stream",
          "text": [
            "INFO:tensorflow:Reloading Oracle from existing project ./untitled_project/oracle.json\n",
            "INFO:tensorflow:Reloading Tuner from ./untitled_project/tuner0.json\n"
          ],
          "name": "stdout"
        }
      ]
    },
    {
      "cell_type": "code",
      "metadata": {
        "id": "8UDnPfEtTKE9",
        "colab_type": "code",
        "colab": {
          "base_uri": "https://localhost:8080/",
          "height": 34
        },
        "outputId": "7dbcdb6f-0759-46fe-d1dd-69fc4e382897"
      },
      "source": [
        "tuner_search.search(x_train,y_train,epochs=3,validation_split=0.1)"
      ],
      "execution_count": 22,
      "outputs": [
        {
          "output_type": "stream",
          "text": [
            "INFO:tensorflow:Oracle triggered exit\n"
          ],
          "name": "stdout"
        }
      ]
    },
    {
      "cell_type": "code",
      "metadata": {
        "id": "FXa3-NyZShlP",
        "colab_type": "code",
        "colab": {}
      },
      "source": [
        "model=tuner_search.get_best_models(num_models=1)[0]"
      ],
      "execution_count": 0,
      "outputs": []
    },
    {
      "cell_type": "code",
      "metadata": {
        "id": "OPE1tCV5SxEG",
        "colab_type": "code",
        "colab": {
          "base_uri": "https://localhost:8080/",
          "height": 319
        },
        "outputId": "7c4bc38d-fbf3-48f2-9ec7-844725bdf681"
      },
      "source": [
        "model.summary()"
      ],
      "execution_count": 24,
      "outputs": [
        {
          "output_type": "stream",
          "text": [
            "Model: \"sequential\"\n",
            "_________________________________________________________________\n",
            "Layer (type)                 Output Shape              Param #   \n",
            "=================================================================\n",
            "conv2d (Conv2D)              (None, 62, 62, 112)       1120      \n",
            "_________________________________________________________________\n",
            "conv2d_1 (Conv2D)            (None, 60, 60, 48)        48432     \n",
            "_________________________________________________________________\n",
            "flatten (Flatten)            (None, 172800)            0         \n",
            "_________________________________________________________________\n",
            "dense (Dense)                (None, 48)                8294448   \n",
            "_________________________________________________________________\n",
            "dense_1 (Dense)              (None, 2)                 98        \n",
            "=================================================================\n",
            "Total params: 8,344,098\n",
            "Trainable params: 8,344,098\n",
            "Non-trainable params: 0\n",
            "_________________________________________________________________\n"
          ],
          "name": "stdout"
        }
      ]
    },
    {
      "cell_type": "code",
      "metadata": {
        "id": "T7oXWaGxUSmA",
        "colab_type": "code",
        "colab": {
          "base_uri": "https://localhost:8080/",
          "height": 689
        },
        "outputId": "da7f1b3e-c528-4414-f446-e018b7964283"
      },
      "source": [
        "reduce_lr = tf.keras.callbacks.ReduceLROnPlateau(monitor='val_loss', factor=0.2,\n",
        "                              patience=3, min_lr=0.0001)\n",
        "h2 = model.fit(x_train, y_train, epochs=20, validation_split=0.1, callbacks =[reduce_lr], batch_size=128)"
      ],
      "execution_count": 25,
      "outputs": [
        {
          "output_type": "stream",
          "text": [
            "Epoch 1/20\n",
            "77/77 [==============================] - 10s 129ms/step - loss: 0.5705 - accuracy: 0.6711 - val_loss: 0.5780 - val_accuracy: 0.6773 - lr: 0.0010\n",
            "Epoch 2/20\n",
            "77/77 [==============================] - 9s 117ms/step - loss: 0.5465 - accuracy: 0.6919 - val_loss: 0.5837 - val_accuracy: 0.6792 - lr: 0.0010\n",
            "Epoch 3/20\n",
            "77/77 [==============================] - 9s 117ms/step - loss: 0.5210 - accuracy: 0.7116 - val_loss: 0.5805 - val_accuracy: 0.6846 - lr: 0.0010\n",
            "Epoch 4/20\n",
            "77/77 [==============================] - 9s 117ms/step - loss: 0.4792 - accuracy: 0.7350 - val_loss: 0.5931 - val_accuracy: 0.6737 - lr: 0.0010\n",
            "Epoch 5/20\n",
            "77/77 [==============================] - 9s 116ms/step - loss: 0.4280 - accuracy: 0.7676 - val_loss: 0.6148 - val_accuracy: 0.6801 - lr: 2.0000e-04\n",
            "Epoch 6/20\n",
            "77/77 [==============================] - 9s 116ms/step - loss: 0.4089 - accuracy: 0.7783 - val_loss: 0.6293 - val_accuracy: 0.6764 - lr: 2.0000e-04\n",
            "Epoch 7/20\n",
            "77/77 [==============================] - 9s 116ms/step - loss: 0.3956 - accuracy: 0.7871 - val_loss: 0.6393 - val_accuracy: 0.6801 - lr: 2.0000e-04\n",
            "Epoch 8/20\n",
            "77/77 [==============================] - 9s 116ms/step - loss: 0.3825 - accuracy: 0.7966 - val_loss: 0.6486 - val_accuracy: 0.6746 - lr: 1.0000e-04\n",
            "Epoch 9/20\n",
            "77/77 [==============================] - 9s 116ms/step - loss: 0.3758 - accuracy: 0.8021 - val_loss: 0.6587 - val_accuracy: 0.6718 - lr: 1.0000e-04\n",
            "Epoch 10/20\n",
            "77/77 [==============================] - 9s 116ms/step - loss: 0.3699 - accuracy: 0.8044 - val_loss: 0.6594 - val_accuracy: 0.6718 - lr: 1.0000e-04\n",
            "Epoch 11/20\n",
            "77/77 [==============================] - 9s 117ms/step - loss: 0.3638 - accuracy: 0.8084 - val_loss: 0.6757 - val_accuracy: 0.6782 - lr: 1.0000e-04\n",
            "Epoch 12/20\n",
            "77/77 [==============================] - 9s 116ms/step - loss: 0.3582 - accuracy: 0.8098 - val_loss: 0.6820 - val_accuracy: 0.6764 - lr: 1.0000e-04\n",
            "Epoch 13/20\n",
            "77/77 [==============================] - 9s 117ms/step - loss: 0.3525 - accuracy: 0.8131 - val_loss: 0.6871 - val_accuracy: 0.6700 - lr: 1.0000e-04\n",
            "Epoch 14/20\n",
            "77/77 [==============================] - 9s 116ms/step - loss: 0.3470 - accuracy: 0.8157 - val_loss: 0.6972 - val_accuracy: 0.6718 - lr: 1.0000e-04\n",
            "Epoch 15/20\n",
            "77/77 [==============================] - 9s 116ms/step - loss: 0.3411 - accuracy: 0.8187 - val_loss: 0.7094 - val_accuracy: 0.6691 - lr: 1.0000e-04\n",
            "Epoch 16/20\n",
            "77/77 [==============================] - 9s 117ms/step - loss: 0.3355 - accuracy: 0.8222 - val_loss: 0.7142 - val_accuracy: 0.6700 - lr: 1.0000e-04\n",
            "Epoch 17/20\n",
            "77/77 [==============================] - 9s 118ms/step - loss: 0.3285 - accuracy: 0.8244 - val_loss: 0.7205 - val_accuracy: 0.6755 - lr: 1.0000e-04\n",
            "Epoch 18/20\n",
            "77/77 [==============================] - 9s 118ms/step - loss: 0.3191 - accuracy: 0.8295 - val_loss: 0.7180 - val_accuracy: 0.6792 - lr: 1.0000e-04\n",
            "Epoch 19/20\n",
            "77/77 [==============================] - 9s 118ms/step - loss: 0.3065 - accuracy: 0.8381 - val_loss: 0.7275 - val_accuracy: 0.6718 - lr: 1.0000e-04\n",
            "Epoch 20/20\n",
            "77/77 [==============================] - 9s 117ms/step - loss: 0.2936 - accuracy: 0.8516 - val_loss: 0.7285 - val_accuracy: 0.6837 - lr: 1.0000e-04\n"
          ],
          "name": "stdout"
        }
      ]
    },
    {
      "cell_type": "code",
      "metadata": {
        "id": "cNtCPrtWXiFb",
        "colab_type": "code",
        "colab": {
          "base_uri": "https://localhost:8080/",
          "height": 34
        },
        "outputId": "67a787ed-81cd-4bbd-d1e7-bbf72d0db3f1"
      },
      "source": [
        "pred = model.predict(x_test)\n",
        "test_eval = model.evaluate(x_test, y_test, verbose=0)\n",
        "print('Test accuracy:', test_eval[1])"
      ],
      "execution_count": 26,
      "outputs": [
        {
          "output_type": "stream",
          "text": [
            "Test accuracy: 0.6836328506469727\n"
          ],
          "name": "stdout"
        }
      ]
    },
    {
      "cell_type": "code",
      "metadata": {
        "id": "jhMOUUoW7Ghc",
        "colab_type": "code",
        "colab": {}
      },
      "source": [
        ""
      ],
      "execution_count": 0,
      "outputs": []
    }
  ]
}